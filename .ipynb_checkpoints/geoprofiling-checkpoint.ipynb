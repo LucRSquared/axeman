{
 "cells": [
  {
   "cell_type": "markdown",
   "metadata": {},
   "source": [
    "# Geographic Profiling with Open Street Map"
   ]
  },
  {
   "cell_type": "code",
   "execution_count": 4,
   "metadata": {
    "collapsed": true
   },
   "outputs": [],
   "source": [
    "import pandas\n",
    "import geopandas as gpd\n",
    "import osmnx as ox\n",
    "import networkx as nx\n",
    "from shapely.geometry import Point, Polygon, LineString\n",
    "from descartes import PolygonPatch\n",
    "import matplotlib.pyplot as plt\n",
    "import pdb"
   ]
  },
  {
   "cell_type": "code",
   "execution_count": 12,
   "metadata": {},
   "outputs": [],
   "source": [
    "transport_mode = 'walk'\n",
    "the_place = 'New-Orleans, LA'\n",
    "\n",
    "vics = pandas.read_csv('victims.csv')\n",
    "selection = (vics['Confirmed Axeman'] == 'Yes') | (vics['Confirmed Axeman'] == 'Maybe')\n",
    "vicselect = vics.loc[selection,['Latitude','Longitude']]"
   ]
  },
  {
   "cell_type": "markdown",
   "metadata": {},
   "source": [
    "The list of selected victims is"
   ]
  },
  {
   "cell_type": "code",
   "execution_count": 15,
   "metadata": {},
   "outputs": [
    {
     "data": {
      "text/html": [
       "<div>\n",
       "<style scoped>\n",
       "    .dataframe tbody tr th:only-of-type {\n",
       "        vertical-align: middle;\n",
       "    }\n",
       "\n",
       "    .dataframe tbody tr th {\n",
       "        vertical-align: top;\n",
       "    }\n",
       "\n",
       "    .dataframe thead th {\n",
       "        text-align: right;\n",
       "    }\n",
       "</style>\n",
       "<table border=\"1\" class=\"dataframe\">\n",
       "  <thead>\n",
       "    <tr style=\"text-align: right;\">\n",
       "      <th></th>\n",
       "      <th>Victim</th>\n",
       "      <th>Time</th>\n",
       "      <th>Victims #</th>\n",
       "      <th>Attacked / Murdered / Break-in</th>\n",
       "      <th>Location</th>\n",
       "      <th>Latitude</th>\n",
       "      <th>Longitude</th>\n",
       "      <th>Confirmed Axeman</th>\n",
       "    </tr>\n",
       "  </thead>\n",
       "  <tbody>\n",
       "    <tr>\n",
       "      <th>0</th>\n",
       "      <td>August Crutti</td>\n",
       "      <td>13/08/1910</td>\n",
       "      <td>1</td>\n",
       "      <td>Attacked</td>\n",
       "      <td>Royal St. and Lesseps St.</td>\n",
       "      <td>29.960853</td>\n",
       "      <td>-90.033930</td>\n",
       "      <td>Yes</td>\n",
       "    </tr>\n",
       "    <tr>\n",
       "      <th>1</th>\n",
       "      <td>Joseph Rissetto</td>\n",
       "      <td>20/09/1910</td>\n",
       "      <td>2</td>\n",
       "      <td>Attacked</td>\n",
       "      <td>Tonti St. and A.P. Tureaud Avenue</td>\n",
       "      <td>29.980195</td>\n",
       "      <td>-90.067196</td>\n",
       "      <td>Yes</td>\n",
       "    </tr>\n",
       "    <tr>\n",
       "      <th>2</th>\n",
       "      <td>Joseph Davi</td>\n",
       "      <td>26/06/1911</td>\n",
       "      <td>2</td>\n",
       "      <td>Murdered</td>\n",
       "      <td>Arts and Galvez St.</td>\n",
       "      <td>29.979005</td>\n",
       "      <td>-90.053034</td>\n",
       "      <td>Yes</td>\n",
       "    </tr>\n",
       "    <tr>\n",
       "      <th>7</th>\n",
       "      <td>Joseph Maggio</td>\n",
       "      <td>24/05/1918</td>\n",
       "      <td>2</td>\n",
       "      <td>Murdered</td>\n",
       "      <td>Upperline St. and Magnolia St.</td>\n",
       "      <td>29.937011</td>\n",
       "      <td>-90.107449</td>\n",
       "      <td>Yes</td>\n",
       "    </tr>\n",
       "    <tr>\n",
       "      <th>8</th>\n",
       "      <td>Louis Besumer</td>\n",
       "      <td>26/06/1918</td>\n",
       "      <td>2</td>\n",
       "      <td>Murdered</td>\n",
       "      <td>Dorgenois St. and Laharpe St.</td>\n",
       "      <td>29.977528</td>\n",
       "      <td>-90.076837</td>\n",
       "      <td>Maybe</td>\n",
       "    </tr>\n",
       "    <tr>\n",
       "      <th>9</th>\n",
       "      <td>Mary Schneider</td>\n",
       "      <td>05/08/1918</td>\n",
       "      <td>1</td>\n",
       "      <td>Attacked</td>\n",
       "      <td>1320 Elmira St.</td>\n",
       "      <td>29.941846</td>\n",
       "      <td>-90.047888</td>\n",
       "      <td>Yes</td>\n",
       "    </tr>\n",
       "    <tr>\n",
       "      <th>10</th>\n",
       "      <td>Joseph Romano</td>\n",
       "      <td>10/08/1918</td>\n",
       "      <td>3</td>\n",
       "      <td>Murdered</td>\n",
       "      <td>2336 Gravier St.</td>\n",
       "      <td>29.958806</td>\n",
       "      <td>-90.087881</td>\n",
       "      <td>Yes</td>\n",
       "    </tr>\n",
       "    <tr>\n",
       "      <th>14</th>\n",
       "      <td>Charles Cortimiglia</td>\n",
       "      <td>10/03/1919</td>\n",
       "      <td>3</td>\n",
       "      <td>Murdered</td>\n",
       "      <td>Second St. Gretna</td>\n",
       "      <td>29.916872</td>\n",
       "      <td>-90.062618</td>\n",
       "      <td>Yes</td>\n",
       "    </tr>\n",
       "    <tr>\n",
       "      <th>17</th>\n",
       "      <td>Mike Pepitone</td>\n",
       "      <td>27/10/1919</td>\n",
       "      <td>1</td>\n",
       "      <td>Murdered</td>\n",
       "      <td>S Scott St. and Ulloa St.</td>\n",
       "      <td>29.968005</td>\n",
       "      <td>-90.105312</td>\n",
       "      <td>Yes</td>\n",
       "    </tr>\n",
       "  </tbody>\n",
       "</table>\n",
       "</div>"
      ],
      "text/plain": [
       "                 Victim        Time  Victims # Attacked / Murdered / Break-in  \\\n",
       "0         August Crutti  13/08/1910          1                       Attacked   \n",
       "1       Joseph Rissetto  20/09/1910          2                       Attacked   \n",
       "2           Joseph Davi  26/06/1911          2                       Murdered   \n",
       "7         Joseph Maggio  24/05/1918          2                       Murdered   \n",
       "8         Louis Besumer  26/06/1918          2                       Murdered   \n",
       "9        Mary Schneider  05/08/1918          1                       Attacked   \n",
       "10        Joseph Romano  10/08/1918          3                       Murdered   \n",
       "14  Charles Cortimiglia  10/03/1919          3                       Murdered   \n",
       "17        Mike Pepitone  27/10/1919          1                       Murdered   \n",
       "\n",
       "                             Location   Latitude  Longitude Confirmed Axeman  \n",
       "0           Royal St. and Lesseps St.  29.960853 -90.033930              Yes  \n",
       "1   Tonti St. and A.P. Tureaud Avenue  29.980195 -90.067196              Yes  \n",
       "2                 Arts and Galvez St.  29.979005 -90.053034              Yes  \n",
       "7      Upperline St. and Magnolia St.  29.937011 -90.107449              Yes  \n",
       "8       Dorgenois St. and Laharpe St.  29.977528 -90.076837            Maybe  \n",
       "9                     1320 Elmira St.  29.941846 -90.047888              Yes  \n",
       "10                   2336 Gravier St.  29.958806 -90.087881              Yes  \n",
       "14                  Second St. Gretna  29.916872 -90.062618              Yes  \n",
       "17          S Scott St. and Ulloa St.  29.968005 -90.105312              Yes  "
      ]
     },
     "execution_count": 15,
     "metadata": {},
     "output_type": "execute_result"
    }
   ],
   "source": [
    "vics[selection]"
   ]
  },
  {
   "cell_type": "code",
   "execution_count": 16,
   "metadata": {},
   "outputs": [],
   "source": [
    "lat = vicselect['Latitude']\n",
    "lon = vicselect['Longitude']"
   ]
  },
  {
   "cell_type": "markdown",
   "metadata": {},
   "source": [
    "## Bounding box\n",
    "The formula to get the boundaries of the bounding box are given in *Geographic Profiling* (2000) by Dr. Kim Rossmo:\n",
    "\n",
    "$y_{high} = y_{max} + \\left(C-1\\right) \\frac{y_{max}-y_{min}}{2}$\n",
    "\n",
    "$y_{low} = y_{min} - \\left(C-1\\right) \\frac{y_{max}-y_{min}}{2}$\n",
    "\n",
    "$x_{high} = x_{max} + \\left(C-1\\right) \\frac{x_{max}-x_{min}}{2}$\n",
    "\n",
    "$x_{low} = x_{min} - \\left(C-1\\right) \\frac{x_{max}-x_{min}}{2}$"
   ]
  },
  {
   "cell_type": "code",
   "execution_count": 10,
   "metadata": {},
   "outputs": [],
   "source": [
    "def get_bounding_box(vicselect):\n",
    "    lat = vicselect['Latitude']\n",
    "    lon = vicselect['Longitude']\n",
    "    \n",
    "    C = len(lat)\n",
    "    \n",
    "    ymax, ymin = max(lat), min(lat)\n",
    "    xmax, xmin = max(lon), min(lon)\n",
    "    \n",
    "    yhigh = ymax + (C-1)*(ymax-ymin)/2.\n",
    "    ylow  = ymin - (C-1)*(ymax-ymin)/2.\n",
    "    xhigh = xmax + (C-1)*(xmax-xmin)/2.\n",
    "    xlow  = xmin - (C-1)*(xmax-xmin)/2.\n",
    "    \n",
    "    return yhigh, ylow, xhigh, xlow"
   ]
  },
  {
   "cell_type": "code",
   "execution_count": 18,
   "metadata": {},
   "outputs": [],
   "source": [
    "yhigh, ylow, xhigh, xlow = get_bounding_box(vicselect)\n"
   ]
  },
  {
   "cell_type": "code",
   "execution_count": 10,
   "metadata": {},
   "outputs": [],
   "source": [
    "graph = ox.graph_from_place(the_place, network_type=transport_mode, simplify=True)\n",
    "\n",
    "nodes, edges = ox.graph_to_gdfs(graph, nodes=True, edges=True)"
   ]
  },
  {
   "cell_type": "code",
   "execution_count": 10,
   "metadata": {},
   "outputs": [],
   "source": [
    "def get_path_length(graph, orig_node, target_node):\n",
    "    length = nx.shortest_path_length(G=graph, source=orig_node, target=target_node, weight='length')\n",
    "    return length"
   ]
  }
 ],
 "metadata": {
  "kernelspec": {
   "display_name": "Python 3",
   "language": "python",
   "name": "python3"
  },
  "language_info": {
   "codemirror_mode": {
    "name": "ipython",
    "version": 3
   },
   "file_extension": ".py",
   "mimetype": "text/x-python",
   "name": "python",
   "nbconvert_exporter": "python",
   "pygments_lexer": "ipython3",
   "version": "3.6.9"
  }
 },
 "nbformat": 4,
 "nbformat_minor": 2
}
