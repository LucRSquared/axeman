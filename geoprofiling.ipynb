{
 "cells": [
  {
   "cell_type": "markdown",
   "metadata": {},
   "source": [
    "# Geographic Profiling with Open Street Map"
   ]
  },
  {
   "cell_type": "code",
   "execution_count": 29,
   "metadata": {
    "collapsed": true
   },
   "outputs": [],
   "source": [
    "import pandas\n",
    "import geopandas as gpd\n",
    "import osmnx as ox\n",
    "import networkx as nx\n",
    "from haversine import haversine\n",
    "from shapely.geometry import Point, Polygon, LineString\n",
    "from descartes import PolygonPatch\n",
    "import matplotlib.pyplot as plt\n",
    "import pdb"
   ]
  },
  {
   "cell_type": "markdown",
   "metadata": {},
   "source": [
    "##### Choosing city and transportation mode"
   ]
  },
  {
   "cell_type": "code",
   "execution_count": 5,
   "metadata": {},
   "outputs": [],
   "source": [
    "transport_mode = 'walk'\n",
    "the_place = 'New-Orleans, LA'"
   ]
  },
  {
   "cell_type": "markdown",
   "metadata": {},
   "source": [
    "##### Specify the path and read victims list"
   ]
  },
  {
   "cell_type": "code",
   "execution_count": 6,
   "metadata": {},
   "outputs": [],
   "source": [
    "path2csv = 'victims.csv'\n",
    "vics = pandas.read_csv(path2csv)"
   ]
  },
  {
   "cell_type": "markdown",
   "metadata": {},
   "source": [
    "##### Filter victims"
   ]
  },
  {
   "cell_type": "code",
   "execution_count": 7,
   "metadata": {},
   "outputs": [],
   "source": [
    "selection = (vics['Confirmed Axeman'] == 'Yes') | (vics['Confirmed Axeman'] == 'Maybe')\n",
    "vicselect = vics.loc[selection,['Latitude','Longitude']]"
   ]
  },
  {
   "cell_type": "markdown",
   "metadata": {},
   "source": [
    "##### The list of selected victims is"
   ]
  },
  {
   "cell_type": "code",
   "execution_count": 8,
   "metadata": {},
   "outputs": [
    {
     "data": {
      "text/html": [
       "<div>\n",
       "<style scoped>\n",
       "    .dataframe tbody tr th:only-of-type {\n",
       "        vertical-align: middle;\n",
       "    }\n",
       "\n",
       "    .dataframe tbody tr th {\n",
       "        vertical-align: top;\n",
       "    }\n",
       "\n",
       "    .dataframe thead th {\n",
       "        text-align: right;\n",
       "    }\n",
       "</style>\n",
       "<table border=\"1\" class=\"dataframe\">\n",
       "  <thead>\n",
       "    <tr style=\"text-align: right;\">\n",
       "      <th></th>\n",
       "      <th>Victim</th>\n",
       "      <th>Time</th>\n",
       "      <th>Victims #</th>\n",
       "      <th>Attacked / Murdered / Break-in</th>\n",
       "      <th>Location</th>\n",
       "      <th>Latitude</th>\n",
       "      <th>Longitude</th>\n",
       "      <th>Confirmed Axeman</th>\n",
       "    </tr>\n",
       "  </thead>\n",
       "  <tbody>\n",
       "    <tr>\n",
       "      <th>0</th>\n",
       "      <td>August Crutti</td>\n",
       "      <td>13/08/1910</td>\n",
       "      <td>1</td>\n",
       "      <td>Attacked</td>\n",
       "      <td>Royal St. and Lesseps St.</td>\n",
       "      <td>29.960853</td>\n",
       "      <td>-90.033930</td>\n",
       "      <td>Yes</td>\n",
       "    </tr>\n",
       "    <tr>\n",
       "      <th>1</th>\n",
       "      <td>Joseph Rissetto</td>\n",
       "      <td>20/09/1910</td>\n",
       "      <td>2</td>\n",
       "      <td>Attacked</td>\n",
       "      <td>Tonti St. and A.P. Tureaud Avenue</td>\n",
       "      <td>29.980195</td>\n",
       "      <td>-90.067196</td>\n",
       "      <td>Yes</td>\n",
       "    </tr>\n",
       "    <tr>\n",
       "      <th>2</th>\n",
       "      <td>Joseph Davi</td>\n",
       "      <td>26/06/1911</td>\n",
       "      <td>2</td>\n",
       "      <td>Murdered</td>\n",
       "      <td>Arts and Galvez St.</td>\n",
       "      <td>29.979005</td>\n",
       "      <td>-90.053034</td>\n",
       "      <td>Yes</td>\n",
       "    </tr>\n",
       "    <tr>\n",
       "      <th>7</th>\n",
       "      <td>Joseph Maggio</td>\n",
       "      <td>24/05/1918</td>\n",
       "      <td>2</td>\n",
       "      <td>Murdered</td>\n",
       "      <td>Upperline St. and Magnolia St.</td>\n",
       "      <td>29.937011</td>\n",
       "      <td>-90.107449</td>\n",
       "      <td>Yes</td>\n",
       "    </tr>\n",
       "    <tr>\n",
       "      <th>8</th>\n",
       "      <td>Louis Besumer</td>\n",
       "      <td>26/06/1918</td>\n",
       "      <td>2</td>\n",
       "      <td>Murdered</td>\n",
       "      <td>Dorgenois St. and Laharpe St.</td>\n",
       "      <td>29.977528</td>\n",
       "      <td>-90.076837</td>\n",
       "      <td>Maybe</td>\n",
       "    </tr>\n",
       "    <tr>\n",
       "      <th>9</th>\n",
       "      <td>Mary Schneider</td>\n",
       "      <td>05/08/1918</td>\n",
       "      <td>1</td>\n",
       "      <td>Attacked</td>\n",
       "      <td>1320 Elmira St.</td>\n",
       "      <td>29.941846</td>\n",
       "      <td>-90.047888</td>\n",
       "      <td>Yes</td>\n",
       "    </tr>\n",
       "    <tr>\n",
       "      <th>10</th>\n",
       "      <td>Joseph Romano</td>\n",
       "      <td>10/08/1918</td>\n",
       "      <td>3</td>\n",
       "      <td>Murdered</td>\n",
       "      <td>2336 Gravier St.</td>\n",
       "      <td>29.958806</td>\n",
       "      <td>-90.087881</td>\n",
       "      <td>Yes</td>\n",
       "    </tr>\n",
       "    <tr>\n",
       "      <th>14</th>\n",
       "      <td>Charles Cortimiglia</td>\n",
       "      <td>10/03/1919</td>\n",
       "      <td>3</td>\n",
       "      <td>Murdered</td>\n",
       "      <td>Second St. Gretna</td>\n",
       "      <td>29.916872</td>\n",
       "      <td>-90.062618</td>\n",
       "      <td>Yes</td>\n",
       "    </tr>\n",
       "    <tr>\n",
       "      <th>17</th>\n",
       "      <td>Mike Pepitone</td>\n",
       "      <td>27/10/1919</td>\n",
       "      <td>1</td>\n",
       "      <td>Murdered</td>\n",
       "      <td>S Scott St. and Ulloa St.</td>\n",
       "      <td>29.968005</td>\n",
       "      <td>-90.105312</td>\n",
       "      <td>Yes</td>\n",
       "    </tr>\n",
       "  </tbody>\n",
       "</table>\n",
       "</div>"
      ],
      "text/plain": [
       "                 Victim        Time  Victims # Attacked / Murdered / Break-in  \\\n",
       "0         August Crutti  13/08/1910          1                       Attacked   \n",
       "1       Joseph Rissetto  20/09/1910          2                       Attacked   \n",
       "2           Joseph Davi  26/06/1911          2                       Murdered   \n",
       "7         Joseph Maggio  24/05/1918          2                       Murdered   \n",
       "8         Louis Besumer  26/06/1918          2                       Murdered   \n",
       "9        Mary Schneider  05/08/1918          1                       Attacked   \n",
       "10        Joseph Romano  10/08/1918          3                       Murdered   \n",
       "14  Charles Cortimiglia  10/03/1919          3                       Murdered   \n",
       "17        Mike Pepitone  27/10/1919          1                       Murdered   \n",
       "\n",
       "                             Location   Latitude  Longitude Confirmed Axeman  \n",
       "0           Royal St. and Lesseps St.  29.960853 -90.033930              Yes  \n",
       "1   Tonti St. and A.P. Tureaud Avenue  29.980195 -90.067196              Yes  \n",
       "2                 Arts and Galvez St.  29.979005 -90.053034              Yes  \n",
       "7      Upperline St. and Magnolia St.  29.937011 -90.107449              Yes  \n",
       "8       Dorgenois St. and Laharpe St.  29.977528 -90.076837            Maybe  \n",
       "9                     1320 Elmira St.  29.941846 -90.047888              Yes  \n",
       "10                   2336 Gravier St.  29.958806 -90.087881              Yes  \n",
       "14                  Second St. Gretna  29.916872 -90.062618              Yes  \n",
       "17          S Scott St. and Ulloa St.  29.968005 -90.105312              Yes  "
      ]
     },
     "execution_count": 8,
     "metadata": {},
     "output_type": "execute_result"
    }
   ],
   "source": [
    "vics[selection]"
   ]
  },
  {
   "cell_type": "code",
   "execution_count": 23,
   "metadata": {},
   "outputs": [],
   "source": [
    "lat = vicselect['Latitude']\n",
    "lon = vicselect['Longitude']\n",
    "N = len(lat) # Total number of victims"
   ]
  },
  {
   "cell_type": "markdown",
   "metadata": {},
   "source": [
    "## Bounding box\n",
    "The formula to get the boundaries of the bounding box are given in *Geographic Profiling* (2000) by Dr. Kim Rossmo:\n",
    "\n",
    "$y_\\text{high} = y_\\text{max} + \\left(C-1\\right) \\frac{y_\\text{max}-y_\\text{min}}{2}$\n",
    "\n",
    "$y_\\text{low} = y_\\text{min} - \\left(C-1\\right) \\frac{y_\\text{max}-y_\\text{min}}{2}$\n",
    "\n",
    "$x_\\text{high} = x_\\text{max} + \\left(C-1\\right) \\frac{x_\\text{max}-x_\\text{min}}{2}$\n",
    "\n",
    "$x_\\text{low} = x_\\text{min} - \\left(C-1\\right) \\frac{x_\\text{max}-x_\\text{min}}{2}$\n",
    "\n",
    "Where:\n",
    "\n",
    "$y_\\text{high}$ is the $y$ value of the northernmost boundary \n",
    "\n",
    "$y_\\text{low}$ is the $y$ value of the southermost boundary\n",
    "\n",
    "$y_\\text{max}$ is the maximum $y$ value for any crime site\n",
    "\n",
    "$y_\\text{min}$ is the minimum $y$ value for any crime site\n",
    "\n",
    "$x_\\text{high}$ is the $y$ value of the easternmost boundary\n",
    "\n",
    "$x_\\text{low}$ is the $y$ value of the westernmost boundary\n",
    "\n",
    "$x_\\text{max}$ is the maximum $x$ value for any crime site\n",
    "\n",
    "$x_\\text{min}$ is the minimum $x$ value for any crime site\n",
    "\n",
    "and $C$ is the total number of crime sites"
   ]
  },
  {
   "cell_type": "code",
   "execution_count": 11,
   "metadata": {},
   "outputs": [],
   "source": [
    "def get_bounding_box(vicselect):\n",
    "    lat = vicselect['Latitude']\n",
    "    lon = vicselect['Longitude']\n",
    "    \n",
    "    C = len(lat)\n",
    "    \n",
    "    ymax, ymin = max(lat), min(lat)\n",
    "    xmax, xmin = max(lon), min(lon)\n",
    "    \n",
    "    yhigh = ymax + (C-1)*(ymax-ymin)/2.\n",
    "    ylow  = ymin - (C-1)*(ymax-ymin)/2.\n",
    "    xhigh = xmax + (C-1)*(xmax-xmin)/2.\n",
    "    xlow  = xmin - (C-1)*(xmax-xmin)/2.\n",
    "    \n",
    "    return yhigh, ylow, xhigh, xlow"
   ]
  },
  {
   "cell_type": "code",
   "execution_count": 12,
   "metadata": {},
   "outputs": [
    {
     "name": "stdout",
     "output_type": "stream",
     "text": [
      "29.663582700000013 30.233484299999986 -90.40152360000003 -89.73985529999996\n"
     ]
    }
   ],
   "source": [
    "yhigh, ylow, xhigh, xlow = get_bounding_box(vicselect)\n",
    "\n",
    "print(ylow, yhigh, xlow, xhigh)"
   ]
  },
  {
   "cell_type": "markdown",
   "metadata": {},
   "source": [
    "#### Get the graph of the location"
   ]
  },
  {
   "cell_type": "code",
   "execution_count": 10,
   "metadata": {},
   "outputs": [],
   "source": [
    "graph = ox.graph_from_place(the_place, network_type=transport_mode, simplify=False)\n",
    "#ox.core.graph_from_bbox(north, south, east, west, network_type='all_private', simplify=True, retain_all=False, truncate_by_edge=False, name='unnamed', timeout=180, memory=None, max_query_area_size=2500000000, clean_periphery=True, infrastructure='way[\"highway\"]', custom_filter=None)\n",
    "\n",
    "nodes, edges = ox.graph_to_gdfs(graph, nodes=True, edges=True)"
   ]
  },
  {
   "cell_type": "markdown",
   "metadata": {},
   "source": [
    "## Using Rossmo's formula"
   ]
  },
  {
   "cell_type": "markdown",
   "metadata": {},
   "source": [
    "##### Define buffer/distance decay function:\n",
    "\n",
    "$$f(d) = \\begin{cases}\n",
    "            \\frac{k}{d^f} & \\text{ if } d \\gt B \\\\\n",
    "            \\frac{k B^{g-f}}{(2B - d)^g} & \\text{ if } d \\le B\n",
    "        \\end{cases} $$\n",
    "        \n",
    "Where $d$ is the distance from the anchor point, $k$ is constant, $B$ is the buffer zone radius and $g$ and $h$ are values describing the criminal's attributes e.g. the mode of travel they use.\n",
    "\n",
    "In practice Rossmo in his thesis chooses $B$ to be one half the mean of the nearest neighbor distance between crimes (using a Manhattan metric). Also $f = 1.2$ was chosen from a gravity model formulation developed to describe interprovincial migration patterns of criminal fugtives (Rossmo, 1987, p. 136). The same exponent was used for distances both within and outside the buffer sone radius ($g = f$).\n",
    "\n",
    "$k$ is only used to prevent \"program variable overflow\" (variable values must remain within the precision range of the specified integer and floating-point numeric variable types used). Basically just try different values and see what happens...\n",
    "\n",
    "The distance-decay function could be improved by describing the buffer zone as an annulus instead of a radius. This could be achieved by using a third or fourth-order polynomial function."
   ]
  },
  {
   "cell_type": "code",
   "execution_count": 13,
   "metadata": {},
   "outputs": [],
   "source": [
    "def buffer_distance_decay(d,k,B,g,f):\n",
    "    if d > B:\n",
    "        return k/(d**f)\n",
    "    else:\n",
    "        return k*(B**(g-f))/((2*B-d)**g)\n"
   ]
  },
  {
   "cell_type": "markdown",
   "metadata": {},
   "source": [
    "#### Score of a cell\n",
    "\n",
    "For a cell (or node) $\\mathbf{p}$, the score $S$ attributed is given by:\n",
    "\n",
    "$$ S(\\mathbf{p}) = \\sum_{i=1}^{N} f\\left(d\\left(\\mathbf{p},\\mathbf{c_i}\\right)\\right) $$\n",
    "\n",
    "Where $N$ is the total number of crimes; $d\\left(\\mathbf{p},\\mathbf{c_i}\\right)$ is the distance from cell $\\mathbf{p}$ to crime $\\mathbf{c_i}$. Rossmo uses a Manhattanian distance for $d$. Here, we use the actual walking distance depending on the city network."
   ]
  },
  {
   "cell_type": "markdown",
   "metadata": {},
   "source": [
    "#### Defining distances"
   ]
  },
  {
   "cell_type": "code",
   "execution_count": 31,
   "metadata": {},
   "outputs": [],
   "source": [
    "def get_path_length(graph, orig_node, target_node):\n",
    "    length = nx.shortest_path_length(G=graph, source=orig_node, target=target_node, weight='length')\n",
    "    return length\n",
    "\n",
    "def get_manhattan_haversine(point1,point2):\n",
    "    # point = (lat,lon)\n",
    "    # haversine((lat[0],lon[0]),(lat[1],lon[1]),unit=\"m\")\n",
    "    # returns the manhattan distance using haversine formula\n",
    "    return abs(haversine((0,point1[1]),(0,point2[1]),unit=\"m\")) + abs(haversine((point1[0],0),(point2[0],0),unit=\"m\"))"
   ]
  },
  {
   "cell_type": "code",
   "execution_count": 36,
   "metadata": {},
   "outputs": [
    {
     "name": "stdout",
     "output_type": "stream",
     "text": [
      "5849.65070535537 3859.19015306046\n"
     ]
    }
   ],
   "source": [
    "print(get_manhattan_haversine((lat[0],lon[0]),(lat[1],lon[1])),haversine((lat[0],lon[0]),(lat[1],lon[1]),unit=\"m\"))"
   ]
  },
  {
   "cell_type": "markdown",
   "metadata": {},
   "source": [
    "## Using a Dirichlet process mixture model"
   ]
  }
 ],
 "metadata": {
  "kernelspec": {
   "display_name": "Python 3",
   "language": "python",
   "name": "python3"
  },
  "language_info": {
   "codemirror_mode": {
    "name": "ipython",
    "version": 3
   },
   "file_extension": ".py",
   "mimetype": "text/x-python",
   "name": "python",
   "nbconvert_exporter": "python",
   "pygments_lexer": "ipython3",
   "version": "3.6.9"
  }
 },
 "nbformat": 4,
 "nbformat_minor": 2
}
